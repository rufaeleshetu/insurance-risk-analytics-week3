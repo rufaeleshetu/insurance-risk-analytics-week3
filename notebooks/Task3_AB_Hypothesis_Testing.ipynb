{
 "cells": [
  {
   "cell_type": "markdown",
   "id": "269f6bbe",
   "metadata": {},
   "source": [
    "# 🧪 Task 3: A/B Hypothesis Testing on Risk Drivers\n",
    "This notebook statistically validates risk drivers using Claim Frequency, Claim Severity, and Margin. We test four key hypotheses about differences in risk across regions and genders."
   ]
  },
  {
   "cell_type": "markdown",
   "id": "1122473f",
   "metadata": {},
   "source": [
    "## 1. Metric Selection\n",
    "- **Claim Frequency** = # claims / # policies\n",
    "- **Claim Severity** = total claims / # claims\n",
    "- **Margin** = TotalPremium - TotalClaims"
   ]
  },
  {
   "cell_type": "code",
   "execution_count": null,
   "id": "2be862a8",
   "metadata": {},
   "outputs": [],
   "source": [
    "import pandas as pd\n",
    "import numpy as np\n",
    "import seaborn as sns\n",
    "import matplotlib.pyplot as plt\n",
    "from scipy import stats\n",
    "\n",
    "# Metric calculations\n",
    "df['HasClaim'] = df['TotalClaims'] > 0\n",
    "df['ClaimFrequency'] = df['HasClaim'].astype(int)\n",
    "df['ClaimSeverity'] = np.where(df['HasClaim'], df['TotalClaims'], np.nan)\n",
    "df['Margin'] = df['TotalPremium'] - df['TotalClaims']"
   ]
  },
  {
   "cell_type": "markdown",
   "id": "7b2f2ca8",
   "metadata": {},
   "source": [
    "## 2. Test 1: Risk Difference Across Provinces"
   ]
  },
  {
   "cell_type": "code",
   "execution_count": null,
   "id": "20c9d1d4",
   "metadata": {},
   "outputs": [],
   "source": [
    "province_groups = df[['Province', 'ClaimFrequency', 'ClaimSeverity', 'Margin']].dropna()\n",
    "anova_freq = stats.f_oneway(*[g['ClaimFrequency'] for _, g in province_groups.groupby('Province')])\n",
    "anova_sev = stats.f_oneway(*[g['ClaimSeverity'].dropna() for _, g in province_groups.groupby('Province')])\n",
    "\n",
    "print(\"ANOVA p-value for Claim Frequency across Provinces:\", anova_freq.pvalue)\n",
    "print(\"ANOVA p-value for Claim Severity across Provinces:\", anova_sev.pvalue)"
   ]
  },
  {
   "cell_type": "markdown",
   "id": "405ef550",
   "metadata": {},
   "source": [
    "## 3. Test 2: Risk Difference Between Zip Codes"
   ]
  },
  {
   "cell_type": "code",
   "execution_count": null,
   "id": "927dc3ff",
   "metadata": {},
   "outputs": [],
   "source": [
    "zip_groups = df[['PostalCode', 'ClaimFrequency', 'ClaimSeverity', 'Margin']].dropna()\n",
    "top_zips = zip_groups['PostalCode'].value_counts().head(2).index\n",
    "zip_test = zip_groups[zip_groups['PostalCode'].isin(top_zips)]\n",
    "\n",
    "a = zip_test[zip_test['PostalCode'] == top_zips[0]]\n",
    "b = zip_test[zip_test['PostalCode'] == top_zips[1]]\n",
    "\n",
    "print(\"T-test on Claim Frequency:\", stats.ttest_ind(a['ClaimFrequency'], b['ClaimFrequency']))\n",
    "print(\"T-test on Claim Severity:\", stats.ttest_ind(a['ClaimSeverity'], b['ClaimSeverity']))"
   ]
  },
  {
   "cell_type": "markdown",
   "id": "64f531da",
   "metadata": {},
   "source": [
    "## 4. Test 3: Margin Differences Between Zip Codes"
   ]
  },
  {
   "cell_type": "code",
   "execution_count": null,
   "id": "413d5150",
   "metadata": {},
   "outputs": [],
   "source": [
    "print(\"T-test on Margin:\", stats.ttest_ind(a['Margin'], b['Margin']))"
   ]
  },
  {
   "cell_type": "markdown",
   "id": "5fe88f8e",
   "metadata": {},
   "source": [
    "## 5. Test 4: Risk Differences Between Women and Men"
   ]
  },
  {
   "cell_type": "code",
   "execution_count": null,
   "id": "3af253fb",
   "metadata": {},
   "outputs": [],
   "source": [
    "gender_data = df[df['Gender'].isin(['Male', 'Female'])][['Gender', 'ClaimFrequency', 'ClaimSeverity']]\n",
    "g_male = gender_data[gender_data['Gender'] == 'Male']\n",
    "g_female = gender_data[gender_data['Gender'] == 'Female']\n",
    "\n",
    "print(\"Claim Frequency Difference (t-test):\", stats.ttest_ind(g_male['ClaimFrequency'], g_female['ClaimFrequency']))\n",
    "print(\"Claim Severity Difference (t-test):\", stats.ttest_ind(g_male['ClaimSeverity'].dropna(), g_female['ClaimSeverity'].dropna()))"
   ]
  },
  {
   "cell_type": "markdown",
   "id": "68bdb438",
   "metadata": {},
   "source": [
    "## 6. Interpretation and Business Recommendations\n",
    "Use p-values to determine if we reject each null hypothesis.\n",
    "\n",
    "Examples:\n",
    "- ✅ Reject province H₀ if p < 0.05 ➝ Adjust premium by region.\n",
    "- ✅ Reject gender H₀ if p < 0.05 ➝ Consider sex-based underwriting if allowed.\n",
    "- ❌ Fail to reject ➝ No pricing changes required for that feature."
   ]
  }
 ],
 "metadata": {
  "kernelspec": {
   "display_name": "Python 3",
   "language": "python",
   "name": "python3"
  },
  "language_info": {
   "codemirror_mode": {
    "name": "ipython",
    "version": 3
   },
   "file_extension": ".py",
   "mimetype": "text/x-python",
   "name": "python",
   "nbconvert_exporter": "python",
   "pygments_lexer": "ipython3",
   "version": "3.11.8"
  }
 },
 "nbformat": 4,
 "nbformat_minor": 5
}
