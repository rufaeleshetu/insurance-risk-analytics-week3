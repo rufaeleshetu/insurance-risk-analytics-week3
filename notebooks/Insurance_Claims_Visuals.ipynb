{
 "cells": [
  {
   "cell_type": "markdown",
   "id": "233541d4",
   "metadata": {},
   "source": [
    "# 📊 Insurance Claims Visualizations\n",
    "This notebook contains all visualizations required for the interim report, including distribution, trends, and risk insights."
   ]
  },
  {
   "cell_type": "markdown",
   "id": "31ed6c87",
   "metadata": {},
   "source": [
    "## 1. Distribution of Total Claims"
   ]
  },
  {
   "cell_type": "code",
   "execution_count": null,
   "id": "d80ef733",
   "metadata": {},
   "outputs": [],
   "source": [
    "import matplotlib.pyplot as plt\n",
    "import seaborn as sns\n",
    "\n",
    "plt.figure(figsize=(8, 5))\n",
    "sns.histplot(df['TotalClaims'], bins=50, kde=True, color='steelblue')\n",
    "plt.title('Distribution of Total Claims')\n",
    "plt.xlabel('TotalClaims')\n",
    "plt.ylabel('Frequency')\n",
    "plt.show()"
   ]
  },
  {
   "cell_type": "markdown",
   "id": "06534691",
   "metadata": {},
   "source": [
    "## 2. Distribution of Loss Ratio"
   ]
  },
  {
   "cell_type": "code",
   "execution_count": null,
   "id": "7287eb84",
   "metadata": {},
   "outputs": [],
   "source": [
    "df['LossRatio'] = df['TotalClaims'] / (df['TotalPremium'] + 1e-5)\n",
    "plt.figure(figsize=(8, 5))\n",
    "sns.histplot(df['LossRatio'], bins=50, kde=True, color='salmon')\n",
    "plt.title('Distribution of Loss Ratios')\n",
    "plt.xlabel('Loss Ratio')\n",
    "plt.ylabel('Frequency')\n",
    "plt.xlim(0, 5)\n",
    "plt.show()"
   ]
  },
  {
   "cell_type": "markdown",
   "id": "2265dcac",
   "metadata": {},
   "source": [
    "## 3. Average Total Claims by Province"
   ]
  },
  {
   "cell_type": "code",
   "execution_count": null,
   "id": "ba3994d6",
   "metadata": {},
   "outputs": [],
   "source": [
    "province_avg = df.groupby('Province')['TotalClaims'].mean().sort_values(ascending=False)\n",
    "plt.figure(figsize=(10, 6))\n",
    "sns.barplot(x=province_avg.values, y=province_avg.index, palette='viridis')\n",
    "plt.title('Average Total Claims by Province')\n",
    "plt.xlabel('Average Total Claims')\n",
    "plt.ylabel('Province')\n",
    "plt.show()"
   ]
  },
  {
   "cell_type": "markdown",
   "id": "d177edfe",
   "metadata": {},
   "source": [
    "## 4. Monthly Claims Trend"
   ]
  },
  {
   "cell_type": "code",
   "execution_count": null,
   "id": "ed6f1717",
   "metadata": {},
   "outputs": [],
   "source": [
    "df['TransactionMonth'] = pd.to_datetime(df['TransactionMonth'], errors='coerce')\n",
    "monthly_claims = df.groupby(df['TransactionMonth'].dt.to_period('M'))['TotalClaims'].sum()\n",
    "plt.figure(figsize=(12, 5))\n",
    "monthly_claims.plot(kind='line', marker='o')\n",
    "plt.title('Total Claims by Month')\n",
    "plt.xlabel('Month')\n",
    "plt.ylabel('Total Claims')\n",
    "plt.xticks(rotation=45)\n",
    "plt.grid(True)\n",
    "plt.show()"
   ]
  },
  {
   "cell_type": "markdown",
   "id": "adf31fd3",
   "metadata": {},
   "source": [
    "## 5. Top 10 Vehicle Brands by Total Claims"
   ]
  },
  {
   "cell_type": "code",
   "execution_count": null,
   "id": "cd1ce375",
   "metadata": {},
   "outputs": [],
   "source": [
    "top_brands = df.groupby('make')['TotalClaims'].sum().sort_values(ascending=False).head(10)\n",
    "plt.figure(figsize=(10, 6))\n",
    "sns.barplot(x=top_brands.values, y=top_brands.index, palette='magma')\n",
    "plt.title('Top 10 Vehicle Brands by Total Claims')\n",
    "plt.xlabel('Total Claims')\n",
    "plt.ylabel('Vehicle Make')\n",
    "plt.show()"
   ]
  },
  {
   "cell_type": "markdown",
   "id": "923816c2",
   "metadata": {},
   "source": [
    "## 6. Correlation Heatmap"
   ]
  },
  {
   "cell_type": "code",
   "execution_count": null,
   "id": "df299c45",
   "metadata": {},
   "outputs": [],
   "source": [
    "plt.figure(figsize=(14, 10))\n",
    "sns.heatmap(df.select_dtypes(include='number').corr(), annot=True, fmt='.2f', cmap='coolwarm', square=True)\n",
    "plt.title('Correlation Heatmap of Numeric Variables')\n",
    "plt.tight_layout()\n",
    "plt.show()"
   ]
  },
  {
   "cell_type": "markdown",
   "id": "ff2df5de",
   "metadata": {},
   "source": [
    "## 7. Boxplot of Total Claims (Outlier Detection)"
   ]
  },
  {
   "cell_type": "code",
   "execution_count": null,
   "id": "3b7c5f0d",
   "metadata": {},
   "outputs": [],
   "source": [
    "plt.figure(figsize=(6, 5))\n",
    "sns.boxplot(x=df['TotalClaims'], color='orange')\n",
    "plt.title('Boxplot of Total Claims')\n",
    "plt.xlabel('TotalClaims')\n",
    "plt.show()"
   ]
  }
 ],
 "metadata": {},
 "nbformat": 4,
 "nbformat_minor": 5
}
